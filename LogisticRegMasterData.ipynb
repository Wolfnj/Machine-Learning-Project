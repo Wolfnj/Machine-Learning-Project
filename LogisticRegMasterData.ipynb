{
 "cells": [
  {
   "cell_type": "code",
   "execution_count": 1,
   "metadata": {},
   "outputs": [],
   "source": [
    "##Replace path to FinalDataCollection to where it is on your computer\n",
    "startingFilePath = \"C:/Users/Nwolf/Documents/FALL 2019/Machine Learning/P1LogisticReg/ScrubData/\"\n",
    "\n",
    "filepath = paste(startingFilePath,\"/Cycling1\",sep=\"\")\n",
    "\n",
    "cycling1 = read.csv(file=paste(startingFilePath,\"Cycling1.csv\",sep=\"\"),header = TRUE,  sep = \",\")\n",
    "cycling2 = read.csv(file=paste(startingFilePath,\"Cycling2.csv\",sep=\"\"),header = TRUE,  sep = \",\")\n",
    "\n",
    "driving1 = read.csv(file=paste(startingFilePath,\"Driving1.csv\",sep=\"\"),header = TRUE,  sep = \",\")\n",
    "driving2 = read.csv(file=paste(startingFilePath,\"Driving2.csv\",sep=\"\"),header = TRUE,  sep = \",\")\n",
    "driving3 = read.csv(file=paste(startingFilePath,\"Driving3.csv\",sep=\"\"),header = TRUE,  sep = \",\")\n",
    "driving4 = read.csv(file=paste(startingFilePath,\"Driving4.csv\",sep=\"\"),header = TRUE,  sep = \",\")\n",
    "\n",
    "\n",
    "\n",
    "run1 = read.csv(file=paste(startingFilePath,\"Run1.csv\",sep=\"\"),header = TRUE,  sep = \",\")\n",
    "run2 = read.csv(file=paste(startingFilePath,\"Run2.csv\",sep=\"\"),header = TRUE,  sep = \",\")\n",
    "run3 = read.csv(file=paste(startingFilePath,\"Run3.csv\",sep=\"\"),header = TRUE,  sep = \",\")\n",
    "\n",
    "\n",
    "sit1 = read.csv(file=paste(startingFilePath,\"Sit1.csv\",sep=\"\"),header = TRUE,  sep = \",\")\n",
    "sit2 = read.csv(file=paste(startingFilePath,\"Sit2.csv\",sep=\"\"),header = TRUE,  sep = \",\")\n",
    "sit3 = read.csv(file=paste(startingFilePath,\"Sit3.csv\",sep=\"\"),header = TRUE,  sep = \",\")\n",
    "\n",
    "\n",
    "\n",
    "stairDown1 = read.csv(file=paste(startingFilePath,\"StairDown1.csv\",sep=\"\"),header = TRUE,  sep = \",\")\n",
    "stairDown2 = read.csv(file=paste(startingFilePath,\"StairDown2.csv\",sep=\"\"),header = TRUE,  sep = \",\")\n",
    "stairDown3 = read.csv(file=paste(startingFilePath,\"StairDown3.csv\",sep=\"\"),header = TRUE,  sep = \",\")\n",
    "\n",
    "\n",
    "\n",
    "\n",
    "\n",
    "\n",
    "stairUp1 = read.csv(file=paste(startingFilePath,\"StairUp1.csv\",sep=\"\"),header = TRUE,  sep = \",\")\n",
    "stairUp2 = read.csv(file=paste(startingFilePath,\"StairUp2.csv\",sep=\"\"),header = TRUE,  sep = \",\")\n",
    "stairUp3 = read.csv(file=paste(startingFilePath,\"StairUp3.csv\",sep=\"\"),header = TRUE,  sep = \",\")\n",
    "\n",
    "\n",
    "\n",
    "\n",
    "standing1 = read.csv(file=paste(startingFilePath,\"Standing1.csv\",sep=\"\"),header = TRUE,  sep = \",\")\n",
    "standing2 = read.csv(file=paste(startingFilePath,\"Standing2.csv\",sep=\"\"),header = TRUE,  sep = \",\")\n",
    "standing3 = read.csv(file=paste(startingFilePath,\"Standing3.csv\",sep=\"\"),header = TRUE,  sep = \",\")\n",
    "\n",
    "\n",
    "walk1 = read.csv(file=paste(startingFilePath,\"Walk1.csv\",sep=\"\"),header = TRUE,  sep = \",\")\n",
    "walk2 = read.csv(file=paste(startingFilePath,\"Walk2.csv\",sep=\"\"),header = TRUE,  sep = \",\")\n",
    "\n",
    "\n"
   ]
  },
  {
   "cell_type": "code",
   "execution_count": 2,
   "metadata": {},
   "outputs": [
    {
     "data": {
      "text/html": [
       "198"
      ],
      "text/latex": [
       "198"
      ],
      "text/markdown": [
       "198"
      ],
      "text/plain": [
       "[1] 198"
      ]
     },
     "metadata": {},
     "output_type": "display_data"
    },
    {
     "data": {
      "text/html": [
       "244"
      ],
      "text/latex": [
       "244"
      ],
      "text/markdown": [
       "244"
      ],
      "text/plain": [
       "[1] 244"
      ]
     },
     "metadata": {},
     "output_type": "display_data"
    },
    {
     "data": {
      "text/html": [
       "217"
      ],
      "text/latex": [
       "217"
      ],
      "text/markdown": [
       "217"
      ],
      "text/plain": [
       "[1] 217"
      ]
     },
     "metadata": {},
     "output_type": "display_data"
    },
    {
     "data": {
      "text/html": [
       "261"
      ],
      "text/latex": [
       "261"
      ],
      "text/markdown": [
       "261"
      ],
      "text/plain": [
       "[1] 261"
      ]
     },
     "metadata": {},
     "output_type": "display_data"
    },
    {
     "data": {
      "text/html": [
       "240"
      ],
      "text/latex": [
       "240"
      ],
      "text/markdown": [
       "240"
      ],
      "text/plain": [
       "[1] 240"
      ]
     },
     "metadata": {},
     "output_type": "display_data"
    },
    {
     "data": {
      "text/html": [
       "338"
      ],
      "text/latex": [
       "338"
      ],
      "text/markdown": [
       "338"
      ],
      "text/plain": [
       "[1] 338"
      ]
     },
     "metadata": {},
     "output_type": "display_data"
    }
   ],
   "source": [
    "\n",
    "nrow(cycling1)\n",
    "nrow(cycling2)\n",
    "\n",
    "\n",
    "\n",
    "nrow(driving1)\n",
    "nrow(driving2)\n",
    "nrow(driving3)\n",
    "nrow(driving4)"
   ]
  },
  {
   "cell_type": "code",
   "execution_count": 89,
   "metadata": {},
   "outputs": [],
   "source": [
    "Cycling1 = rbind(cycling1,cycling2)\n",
    "Driving1 = rbind(driving1,driving2,driving3,driving4)\n",
    "Run1 = rbind(run1,run2,run3)\n",
    "Sit1 = rbind(sit1,sit2,sit3)\n",
    "StairDown1 = rbind(stairDown1,stairDown2,stairDown3)\n",
    "StairUp1 = rbind(stairUp1,stairUp2,stairUp3)\n",
    "Standing1 = rbind(standing1,standing2,standing3)\n",
    "Walk1 = rbind(walk1,walk2)\n"
   ]
  },
  {
   "cell_type": "markdown",
   "metadata": {},
   "source": [
    "# Types\n",
    "## Cycling -- 0\n",
    "## Driving -- 1\n",
    "## Run -- 2\n",
    "## Sit -- 3\n",
    "## StairDown -- 4\n",
    "## StairUp -- 5\n",
    "## Standing -- 6\n",
    "## Walk -- 7\n"
   ]
  },
  {
   "cell_type": "code",
   "execution_count": 90,
   "metadata": {},
   "outputs": [],
   "source": [
    "Type = rep(0,nrow(Cycling1))\n",
    "CyclingT = cbind(Cycling1,Type)\n",
    "\n",
    "\n",
    "Type = rep(1,nrow(Driving1))\n",
    "DrivingT = cbind(Driving1,Type)\n",
    "\n",
    "Type = rep(2,nrow(Run1))\n",
    "RunT = cbind(Run1,Type)\n",
    "\n",
    "Type = rep(3,nrow(Sit1))\n",
    "SitT = cbind(Sit1,Type)\n",
    "\n",
    "\n",
    "Type = rep(4,nrow(StairDown1))\n",
    "StairDownT = cbind(StairDown1,Type)\n",
    "\n",
    "\n",
    "Type = rep(5,nrow(StairUp1))\n",
    "StairUpT = cbind(StairUp1,Type)\n",
    "\n",
    "Type = rep(6,nrow(Standing1))\n",
    "StandingT = cbind(Standing1,Type)\n",
    "\n",
    "Type = rep(7,nrow(Walk1))\n",
    "WalkT = cbind(Walk1,Type)\n"
   ]
  },
  {
   "cell_type": "code",
   "execution_count": 91,
   "metadata": {},
   "outputs": [
    {
     "data": {
      "text/html": [
       "4446"
      ],
      "text/latex": [
       "4446"
      ],
      "text/markdown": [
       "4446"
      ],
      "text/plain": [
       "[1] 4446"
      ]
     },
     "metadata": {},
     "output_type": "display_data"
    },
    {
     "data": {
      "text/html": [
       "<table>\n",
       "<thead><tr><th scope=col>Timestamp</th><th scope=col>LP1.Avg</th><th scope=col>LP2.Avg</th><th scope=col>LP3.Avg</th><th scope=col>LP4.Avg</th><th scope=col>LP5.Avg</th><th scope=col>LP6.Avg</th><th scope=col>LP7.Avg</th><th scope=col>LP8.Avg</th><th scope=col>LP1.Min</th><th scope=col>...</th><th scope=col>GX.Min</th><th scope=col>GY.Min</th><th scope=col>GZ.Min</th><th scope=col>GX.Max</th><th scope=col>GY.Max</th><th scope=col>GZ.Max</th><th scope=col>GX.Std</th><th scope=col>GY.Std</th><th scope=col>GZ.Std</th><th scope=col>Type</th></tr></thead>\n",
       "<tbody>\n",
       "\t<tr><td>0.02867    </td><td>49.07826   </td><td>66.93913   </td><td>67.21304   </td><td>69.13913   </td><td>51.02174   </td><td>5.465217   </td><td>99.69565   </td><td>106.61304  </td><td> 0.0       </td><td>...        </td><td>-0.9880431 </td><td> 0.09699179</td><td>-0.08739988</td><td> 0.05542411</td><td>1.1468544  </td><td>0.82283610 </td><td>0.2998473  </td><td>0.2309539  </td><td>0.2213578  </td><td>0          </td></tr>\n",
       "\t<tr><td>0.02868    </td><td>63.47917   </td><td>81.22083   </td><td>79.48333   </td><td>89.57083   </td><td>57.67083   </td><td>6.279167   </td><td>97.57917   </td><td>156.01667  </td><td>31.6       </td><td>...        </td><td>-0.9677922 </td><td>-0.86973410</td><td>-0.42207694</td><td>-0.40822080</td><td>0.4199443  </td><td>0.36665230 </td><td>0.1678751  </td><td>0.3825178  </td><td>0.2575559  </td><td>0          </td></tr>\n",
       "\t<tr><td>0.02869    </td><td>54.30256   </td><td>69.35897   </td><td>70.73846   </td><td>71.07179   </td><td>56.30769   </td><td>5.430769   </td><td>96.85897   </td><td>105.52821  </td><td>25.2       </td><td>...        </td><td>-0.8835897 </td><td>-0.66082720</td><td> 0.31549138</td><td> 1.00509620</td><td>1.1351300  </td><td>0.96352800 </td><td>0.6142341  </td><td>0.5031702  </td><td>0.1861279  </td><td>0          </td></tr>\n",
       "\t<tr><td>0.02870    </td><td>46.23125   </td><td>64.46250   </td><td>62.81875   </td><td>80.90625   </td><td>55.24063   </td><td>4.131250   </td><td>87.32812   </td><td> 84.98125  </td><td> 0.0       </td><td>...        </td><td>-0.7663465 </td><td>-0.42420855</td><td>-0.62778616</td><td> 0.72371160</td><td>0.2483427  </td><td>0.68427527 </td><td>0.4509978  </td><td>0.1604230  </td><td>0.3456584  </td><td>0          </td></tr>\n",
       "\t<tr><td>0.02871    </td><td>55.99000   </td><td>66.90667   </td><td>64.74000   </td><td>72.09333   </td><td>58.06667   </td><td>4.230000   </td><td>93.84667   </td><td>175.55000  </td><td>25.2       </td><td>...        </td><td>-1.3184568 </td><td>-1.15111800</td><td>-0.45298640</td><td> 1.01149150</td><td>1.0061619  </td><td>0.07460926 </td><td>0.8701838  </td><td>0.7017131  </td><td>0.1138964  </td><td>0          </td></tr>\n",
       "\t<tr><td>0.02872    </td><td>47.69118   </td><td>60.70588   </td><td>54.38824   </td><td>74.50294   </td><td>52.52941   </td><td>1.714706   </td><td>86.50882   </td><td>109.15000  </td><td>15.6       </td><td>...        </td><td>-0.5425179 </td><td>-0.26433098</td><td>-0.42101115</td><td> 1.24384670</td><td>1.0008327  </td><td>0.95713320 </td><td>0.5766576  </td><td>0.4633173  </td><td>0.3907985  </td><td>0          </td></tr>\n",
       "</tbody>\n",
       "</table>\n"
      ],
      "text/latex": [
       "\\begin{tabular}{r|llllllllllllllllllllllllllllllllllllllllllllllllllllllllllllllllllllllllllllllllllllllllll}\n",
       " Timestamp & LP1.Avg & LP2.Avg & LP3.Avg & LP4.Avg & LP5.Avg & LP6.Avg & LP7.Avg & LP8.Avg & LP1.Min & ... & GX.Min & GY.Min & GZ.Min & GX.Max & GY.Max & GZ.Max & GX.Std & GY.Std & GZ.Std & Type\\\\\n",
       "\\hline\n",
       "\t 0.02867     & 49.07826    & 66.93913    & 67.21304    & 69.13913    & 51.02174    & 5.465217    & 99.69565    & 106.61304   &  0.0        & ...         & -0.9880431  &  0.09699179 & -0.08739988 &  0.05542411 & 1.1468544   & 0.82283610  & 0.2998473   & 0.2309539   & 0.2213578   & 0          \\\\\n",
       "\t 0.02868     & 63.47917    & 81.22083    & 79.48333    & 89.57083    & 57.67083    & 6.279167    & 97.57917    & 156.01667   & 31.6        & ...         & -0.9677922  & -0.86973410 & -0.42207694 & -0.40822080 & 0.4199443   & 0.36665230  & 0.1678751   & 0.3825178   & 0.2575559   & 0          \\\\\n",
       "\t 0.02869     & 54.30256    & 69.35897    & 70.73846    & 71.07179    & 56.30769    & 5.430769    & 96.85897    & 105.52821   & 25.2        & ...         & -0.8835897  & -0.66082720 &  0.31549138 &  1.00509620 & 1.1351300   & 0.96352800  & 0.6142341   & 0.5031702   & 0.1861279   & 0          \\\\\n",
       "\t 0.02870     & 46.23125    & 64.46250    & 62.81875    & 80.90625    & 55.24063    & 4.131250    & 87.32812    &  84.98125   &  0.0        & ...         & -0.7663465  & -0.42420855 & -0.62778616 &  0.72371160 & 0.2483427   & 0.68427527  & 0.4509978   & 0.1604230   & 0.3456584   & 0          \\\\\n",
       "\t 0.02871     & 55.99000    & 66.90667    & 64.74000    & 72.09333    & 58.06667    & 4.230000    & 93.84667    & 175.55000   & 25.2        & ...         & -1.3184568  & -1.15111800 & -0.45298640 &  1.01149150 & 1.0061619   & 0.07460926  & 0.8701838   & 0.7017131   & 0.1138964   & 0          \\\\\n",
       "\t 0.02872     & 47.69118    & 60.70588    & 54.38824    & 74.50294    & 52.52941    & 1.714706    & 86.50882    & 109.15000   & 15.6        & ...         & -0.5425179  & -0.26433098 & -0.42101115 &  1.24384670 & 1.0008327   & 0.95713320  & 0.5766576   & 0.4633173   & 0.3907985   & 0          \\\\\n",
       "\\end{tabular}\n"
      ],
      "text/markdown": [
       "\n",
       "| Timestamp | LP1.Avg | LP2.Avg | LP3.Avg | LP4.Avg | LP5.Avg | LP6.Avg | LP7.Avg | LP8.Avg | LP1.Min | ... | GX.Min | GY.Min | GZ.Min | GX.Max | GY.Max | GZ.Max | GX.Std | GY.Std | GZ.Std | Type |\n",
       "|---|---|---|---|---|---|---|---|---|---|---|---|---|---|---|---|---|---|---|---|---|\n",
       "| 0.02867     | 49.07826    | 66.93913    | 67.21304    | 69.13913    | 51.02174    | 5.465217    | 99.69565    | 106.61304   |  0.0        | ...         | -0.9880431  |  0.09699179 | -0.08739988 |  0.05542411 | 1.1468544   | 0.82283610  | 0.2998473   | 0.2309539   | 0.2213578   | 0           |\n",
       "| 0.02868     | 63.47917    | 81.22083    | 79.48333    | 89.57083    | 57.67083    | 6.279167    | 97.57917    | 156.01667   | 31.6        | ...         | -0.9677922  | -0.86973410 | -0.42207694 | -0.40822080 | 0.4199443   | 0.36665230  | 0.1678751   | 0.3825178   | 0.2575559   | 0           |\n",
       "| 0.02869     | 54.30256    | 69.35897    | 70.73846    | 71.07179    | 56.30769    | 5.430769    | 96.85897    | 105.52821   | 25.2        | ...         | -0.8835897  | -0.66082720 |  0.31549138 |  1.00509620 | 1.1351300   | 0.96352800  | 0.6142341   | 0.5031702   | 0.1861279   | 0           |\n",
       "| 0.02870     | 46.23125    | 64.46250    | 62.81875    | 80.90625    | 55.24063    | 4.131250    | 87.32812    |  84.98125   |  0.0        | ...         | -0.7663465  | -0.42420855 | -0.62778616 |  0.72371160 | 0.2483427   | 0.68427527  | 0.4509978   | 0.1604230   | 0.3456584   | 0           |\n",
       "| 0.02871     | 55.99000    | 66.90667    | 64.74000    | 72.09333    | 58.06667    | 4.230000    | 93.84667    | 175.55000   | 25.2        | ...         | -1.3184568  | -1.15111800 | -0.45298640 |  1.01149150 | 1.0061619   | 0.07460926  | 0.8701838   | 0.7017131   | 0.1138964   | 0           |\n",
       "| 0.02872     | 47.69118    | 60.70588    | 54.38824    | 74.50294    | 52.52941    | 1.714706    | 86.50882    | 109.15000   | 15.6        | ...         | -0.5425179  | -0.26433098 | -0.42101115 |  1.24384670 | 1.0008327   | 0.95713320  | 0.5766576   | 0.4633173   | 0.3907985   | 0           |\n",
       "\n"
      ],
      "text/plain": [
       "  Timestamp LP1.Avg  LP2.Avg  LP3.Avg  LP4.Avg  LP5.Avg  LP6.Avg  LP7.Avg \n",
       "1 0.02867   49.07826 66.93913 67.21304 69.13913 51.02174 5.465217 99.69565\n",
       "2 0.02868   63.47917 81.22083 79.48333 89.57083 57.67083 6.279167 97.57917\n",
       "3 0.02869   54.30256 69.35897 70.73846 71.07179 56.30769 5.430769 96.85897\n",
       "4 0.02870   46.23125 64.46250 62.81875 80.90625 55.24063 4.131250 87.32812\n",
       "5 0.02871   55.99000 66.90667 64.74000 72.09333 58.06667 4.230000 93.84667\n",
       "6 0.02872   47.69118 60.70588 54.38824 74.50294 52.52941 1.714706 86.50882\n",
       "  LP8.Avg   LP1.Min ... GX.Min     GY.Min      GZ.Min      GX.Max     \n",
       "1 106.61304  0.0    ... -0.9880431  0.09699179 -0.08739988  0.05542411\n",
       "2 156.01667 31.6    ... -0.9677922 -0.86973410 -0.42207694 -0.40822080\n",
       "3 105.52821 25.2    ... -0.8835897 -0.66082720  0.31549138  1.00509620\n",
       "4  84.98125  0.0    ... -0.7663465 -0.42420855 -0.62778616  0.72371160\n",
       "5 175.55000 25.2    ... -1.3184568 -1.15111800 -0.45298640  1.01149150\n",
       "6 109.15000 15.6    ... -0.5425179 -0.26433098 -0.42101115  1.24384670\n",
       "  GY.Max    GZ.Max     GX.Std    GY.Std    GZ.Std    Type\n",
       "1 1.1468544 0.82283610 0.2998473 0.2309539 0.2213578 0   \n",
       "2 0.4199443 0.36665230 0.1678751 0.3825178 0.2575559 0   \n",
       "3 1.1351300 0.96352800 0.6142341 0.5031702 0.1861279 0   \n",
       "4 0.2483427 0.68427527 0.4509978 0.1604230 0.3456584 0   \n",
       "5 1.0061619 0.07460926 0.8701838 0.7017131 0.1138964 0   \n",
       "6 1.0008327 0.95713320 0.5766576 0.4633173 0.3907985 0   "
      ]
     },
     "metadata": {},
     "output_type": "display_data"
    }
   ],
   "source": [
    "MasterDataNotScaled = rbind(CyclingT,DrivingT,RunT,SitT,StairDownT,StairUpT,StandingT,WalkT)\n",
    "nrow(MasterDataNotScaled)\n",
    "head(MasterDataNotScaled)"
   ]
  },
  {
   "cell_type": "code",
   "execution_count": null,
   "metadata": {},
   "outputs": [],
   "source": []
  },
  {
   "cell_type": "code",
   "execution_count": 92,
   "metadata": {},
   "outputs": [],
   "source": [
    "Cycling1Time = subset(Cycling1, select = c(1))\n",
    "Cycling1Features =  subset(Cycling1, select = -c(1))\n",
    "\n",
    "Driving1Time = subset(Driving1, select = c(1))\n",
    "Driving1Features =  subset(Driving1, select = -c(1))\n",
    "\n",
    "Run1Time = subset(Run1, select = c(1))\n",
    "Run1Features =  subset(Run1, select = -c(1))\n",
    "\n",
    "Sit1Time = subset(Sit1, select = c(1))\n",
    "Sit1Features =  subset(Sit1, select = -c(1))\n",
    "\n",
    "StairDown1Time = subset(StairDown1, select = c(1))\n",
    "StairDown1Features =  subset(StairDown1, select = -c(1))\n",
    "\n",
    "StairUp1Time = subset(StairUp1, select = c(1))\n",
    "StairUp1Features =  subset(StairUp1, select = -c(1))\n",
    "\n",
    "Standing1Time = subset(Standing1, select = c(1))\n",
    "Standing1Features =  subset(Standing1, select = -c(1))\n",
    "\n",
    "Walk1Time = subset(Walk1, select = c(1))\n",
    "Walk1Features =  subset(Walk1, select = -c(1))\n"
   ]
  },
  {
   "cell_type": "code",
   "execution_count": 93,
   "metadata": {},
   "outputs": [
    {
     "data": {
      "text/html": [
       "442"
      ],
      "text/latex": [
       "442"
      ],
      "text/markdown": [
       "442"
      ],
      "text/plain": [
       "[1] 442"
      ]
     },
     "metadata": {},
     "output_type": "display_data"
    },
    {
     "data": {
      "text/html": [
       "442"
      ],
      "text/latex": [
       "442"
      ],
      "text/markdown": [
       "442"
      ],
      "text/plain": [
       "[1] 442"
      ]
     },
     "metadata": {},
     "output_type": "display_data"
    }
   ],
   "source": [
    "nrow(Cycling1Time)\n",
    "nrow(Cycling1Features)\n"
   ]
  },
  {
   "cell_type": "code",
   "execution_count": 94,
   "metadata": {},
   "outputs": [],
   "source": [
    "Cycling1Features  =scale(Cycling1Features, center = TRUE, scale = TRUE)\n",
    "CyclingScaled = cbind(Cycling1Time,Cycling1Features )\n",
    "\n",
    "Cycling1Features  =scale(Cycling1Features, center = TRUE, scale = TRUE)\n",
    "CyclingScaled = cbind(Cycling1Time,Cycling1Features )\n",
    "\n",
    "Driving1Features  =scale(Driving1Features, center = TRUE, scale = TRUE)\n",
    "DrivingScaled = cbind(Driving1Time,Driving1Features )\n",
    "\n",
    "Run1Features  =scale(Run1Features, center = TRUE, scale = TRUE)\n",
    "RunScaled = cbind(Run1Time,Run1Features )\n",
    "\n",
    "Sit1Features  =scale(Sit1Features, center = TRUE, scale = TRUE)\n",
    "SitScaled = cbind(Sit1Time,Sit1Features )\n",
    "\n",
    "StairDown1Features  =scale(StairDown1Features, center = TRUE, scale = TRUE)\n",
    "StairDownScaled = cbind(StairDown1Time,StairDown1Features )\n",
    "\n",
    "StairUp1Features  =scale(StairUp1Features, center = TRUE, scale = TRUE)\n",
    "StairUpScaled = cbind(StairUp1Time,StairUp1Features )\n",
    "\n",
    "\n",
    "Standing1Features  =scale(Standing1Features, center = TRUE, scale = TRUE)\n",
    "StandingScaled = cbind(Standing1Time,Standing1Features )\n",
    "\n",
    "Walk1Features  =scale(Walk1Features, center = TRUE, scale = TRUE)\n",
    "WalkScaled = cbind(Walk1Time,Walk1Features )"
   ]
  },
  {
   "cell_type": "code",
   "execution_count": null,
   "metadata": {},
   "outputs": [],
   "source": [
    "\n"
   ]
  },
  {
   "cell_type": "code",
   "execution_count": 95,
   "metadata": {},
   "outputs": [],
   "source": [
    "Type = rep(0,nrow(CyclingScaled))\n",
    "CyclingScaledT = cbind(CyclingScaled,Type)\n",
    "\n",
    "\n",
    "Type = rep(1,nrow(DrivingScaled))\n",
    "DrivingScaledT = cbind(DrivingScaled,Type)\n",
    "\n",
    "Type = rep(2,nrow(RunScaled))\n",
    "RunScaledT = cbind(RunScaled,Type)\n",
    "\n",
    "Type = rep(3,nrow(SitScaled))\n",
    "SitScaledT = cbind(SitScaled,Type)\n",
    "\n",
    "Type = rep(4,nrow(StairDownScaled))\n",
    "StairDownScaledT = cbind(StairDownScaled,Type)\n",
    "\n",
    "\n",
    "Type = rep(5,nrow(StairUpScaled))\n",
    "StairUpScaledT = cbind(StairUpScaled,Type)\n",
    "\n",
    "Type = rep(6,nrow(StandingScaled))\n",
    "StandingScaledT = cbind(StandingScaled,Type)\n",
    "\n",
    "Type = rep(7,nrow(WalkScaled))\n",
    "WalkScaledT = cbind(WalkScaled,Type)"
   ]
  },
  {
   "cell_type": "code",
   "execution_count": 104,
   "metadata": {},
   "outputs": [
    {
     "data": {
      "text/html": [
       "4446"
      ],
      "text/latex": [
       "4446"
      ],
      "text/markdown": [
       "4446"
      ],
      "text/plain": [
       "[1] 4446"
      ]
     },
     "metadata": {},
     "output_type": "display_data"
    },
    {
     "data": {
      "text/html": [
       "<table>\n",
       "<thead><tr><th scope=col>Timestamp</th><th scope=col>LP1.Avg</th><th scope=col>LP2.Avg</th><th scope=col>LP3.Avg</th><th scope=col>LP4.Avg</th><th scope=col>LP5.Avg</th><th scope=col>LP6.Avg</th><th scope=col>LP7.Avg</th><th scope=col>LP8.Avg</th><th scope=col>LP1.Min</th><th scope=col>...</th><th scope=col>GX.Min</th><th scope=col>GY.Min</th><th scope=col>GZ.Min</th><th scope=col>GX.Max</th><th scope=col>GY.Max</th><th scope=col>GZ.Max</th><th scope=col>GX.Std</th><th scope=col>GY.Std</th><th scope=col>GZ.Std</th><th scope=col>Type</th></tr></thead>\n",
       "<tbody>\n",
       "\t<tr><td>0.02867     </td><td>-0.48634052 </td><td>0.7813828   </td><td> 0.44236416 </td><td>0.3744056   </td><td>0.8635372   </td><td> 0.75602010 </td><td>2.430070    </td><td>1.1231082   </td><td>-1.5421795  </td><td>...         </td><td>-0.66346175 </td><td> 1.63501258 </td><td>1.3932749   </td><td>-1.27800094 </td><td> 0.4620825  </td><td> 0.002807063</td><td>-0.2897487  </td><td>-0.81140156 </td><td>-0.8909766  </td><td>0           </td></tr>\n",
       "\t<tr><td>0.02868     </td><td> 0.72632232 </td><td>1.4623273   </td><td> 1.81439809 </td><td>2.1089740   </td><td>2.3100170   </td><td> 1.19858992 </td><td>2.293395    </td><td>2.7172734   </td><td> 0.6175151  </td><td>...         </td><td>-0.62998933 </td><td> 0.06065783 </td><td>0.8442016   </td><td>-2.21037788 </td><td>-0.6051013  </td><td>-0.642353298</td><td>-0.7397688  </td><td>-0.35387084 </td><td>-0.7919651  </td><td>0           </td></tr>\n",
       "\t<tr><td>0.02869     </td><td>-0.04641552 </td><td>0.8967598   </td><td> 0.83656782 </td><td>0.5384809   </td><td>2.0134720   </td><td> 0.73728956 </td><td>2.246888    </td><td>1.0881024   </td><td> 0.1801086  </td><td>...         </td><td>-0.49081223 </td><td> 0.40087172 </td><td>2.0542609   </td><td> 0.63176305 </td><td> 0.4448698  </td><td> 0.201781329</td><td> 0.7822977  </td><td> 0.01034636 </td><td>-0.9873396  </td><td>0           </td></tr>\n",
       "\t<tr><td>0.02870     </td><td>-0.72607990 </td><td>0.6632983   </td><td>-0.04899504 </td><td>1.3733861   </td><td>1.7813364   </td><td> 0.03070009 </td><td>1.631424    </td><td>0.4250894   </td><td>-1.5421795  </td><td>...         </td><td>-0.29702255 </td><td> 0.78621538 </td><td>0.5067137   </td><td> 0.06590649 </td><td>-0.8570312  </td><td>-0.193153327</td><td> 0.2256683  </td><td>-1.02431564 </td><td>-0.5509810  </td><td>0           </td></tr>\n",
       "\t<tr><td>0.02871     </td><td> 0.09567907 </td><td>0.7798350   </td><td> 0.16583446 </td><td>0.6252054   </td><td>2.3961288   </td><td> 0.08439357 </td><td>2.052365    </td><td>3.3475786   </td><td> 0.1801086  </td><td>...         </td><td>-1.20959779 </td><td>-0.39758797 </td><td>0.7934913   </td><td> 0.64462382 </td><td> 0.2555305  </td><td>-1.055376718</td><td> 1.6550758  </td><td> 0.60969442 </td><td>-1.1849123  </td><td>0           </td></tr>\n",
       "\t<tr><td>0.02872     </td><td>-0.60314329 </td><td>0.4841847   </td><td>-0.99167466 </td><td>0.8297713   </td><td>1.1915245   </td><td>-1.28325094 </td><td>1.578517    </td><td>1.2049711   </td><td>-0.4760012  </td><td>...         </td><td> 0.07294043 </td><td> 1.04658289 </td><td>0.8459501   </td><td> 1.11188362 </td><td> 0.2477067  </td><td> 0.192737449</td><td> 0.6541632  </td><td>-0.10995864 </td><td>-0.4275108  </td><td>0           </td></tr>\n",
       "</tbody>\n",
       "</table>\n"
      ],
      "text/latex": [
       "\\begin{tabular}{r|llllllllllllllllllllllllllllllllllllllllllllllllllllllllllllllllllllllllllllllllllllllllll}\n",
       " Timestamp & LP1.Avg & LP2.Avg & LP3.Avg & LP4.Avg & LP5.Avg & LP6.Avg & LP7.Avg & LP8.Avg & LP1.Min & ... & GX.Min & GY.Min & GZ.Min & GX.Max & GY.Max & GZ.Max & GX.Std & GY.Std & GZ.Std & Type\\\\\n",
       "\\hline\n",
       "\t 0.02867      & -0.48634052  & 0.7813828    &  0.44236416  & 0.3744056    & 0.8635372    &  0.75602010  & 2.430070     & 1.1231082    & -1.5421795   & ...          & -0.66346175  &  1.63501258  & 1.3932749    & -1.27800094  &  0.4620825   &  0.002807063 & -0.2897487   & -0.81140156  & -0.8909766   & 0           \\\\\n",
       "\t 0.02868      &  0.72632232  & 1.4623273    &  1.81439809  & 2.1089740    & 2.3100170    &  1.19858992  & 2.293395     & 2.7172734    &  0.6175151   & ...          & -0.62998933  &  0.06065783  & 0.8442016    & -2.21037788  & -0.6051013   & -0.642353298 & -0.7397688   & -0.35387084  & -0.7919651   & 0           \\\\\n",
       "\t 0.02869      & -0.04641552  & 0.8967598    &  0.83656782  & 0.5384809    & 2.0134720    &  0.73728956  & 2.246888     & 1.0881024    &  0.1801086   & ...          & -0.49081223  &  0.40087172  & 2.0542609    &  0.63176305  &  0.4448698   &  0.201781329 &  0.7822977   &  0.01034636  & -0.9873396   & 0           \\\\\n",
       "\t 0.02870      & -0.72607990  & 0.6632983    & -0.04899504  & 1.3733861    & 1.7813364    &  0.03070009  & 1.631424     & 0.4250894    & -1.5421795   & ...          & -0.29702255  &  0.78621538  & 0.5067137    &  0.06590649  & -0.8570312   & -0.193153327 &  0.2256683   & -1.02431564  & -0.5509810   & 0           \\\\\n",
       "\t 0.02871      &  0.09567907  & 0.7798350    &  0.16583446  & 0.6252054    & 2.3961288    &  0.08439357  & 2.052365     & 3.3475786    &  0.1801086   & ...          & -1.20959779  & -0.39758797  & 0.7934913    &  0.64462382  &  0.2555305   & -1.055376718 &  1.6550758   &  0.60969442  & -1.1849123   & 0           \\\\\n",
       "\t 0.02872      & -0.60314329  & 0.4841847    & -0.99167466  & 0.8297713    & 1.1915245    & -1.28325094  & 1.578517     & 1.2049711    & -0.4760012   & ...          &  0.07294043  &  1.04658289  & 0.8459501    &  1.11188362  &  0.2477067   &  0.192737449 &  0.6541632   & -0.10995864  & -0.4275108   & 0           \\\\\n",
       "\\end{tabular}\n"
      ],
      "text/markdown": [
       "\n",
       "| Timestamp | LP1.Avg | LP2.Avg | LP3.Avg | LP4.Avg | LP5.Avg | LP6.Avg | LP7.Avg | LP8.Avg | LP1.Min | ... | GX.Min | GY.Min | GZ.Min | GX.Max | GY.Max | GZ.Max | GX.Std | GY.Std | GZ.Std | Type |\n",
       "|---|---|---|---|---|---|---|---|---|---|---|---|---|---|---|---|---|---|---|---|---|\n",
       "| 0.02867      | -0.48634052  | 0.7813828    |  0.44236416  | 0.3744056    | 0.8635372    |  0.75602010  | 2.430070     | 1.1231082    | -1.5421795   | ...          | -0.66346175  |  1.63501258  | 1.3932749    | -1.27800094  |  0.4620825   |  0.002807063 | -0.2897487   | -0.81140156  | -0.8909766   | 0            |\n",
       "| 0.02868      |  0.72632232  | 1.4623273    |  1.81439809  | 2.1089740    | 2.3100170    |  1.19858992  | 2.293395     | 2.7172734    |  0.6175151   | ...          | -0.62998933  |  0.06065783  | 0.8442016    | -2.21037788  | -0.6051013   | -0.642353298 | -0.7397688   | -0.35387084  | -0.7919651   | 0            |\n",
       "| 0.02869      | -0.04641552  | 0.8967598    |  0.83656782  | 0.5384809    | 2.0134720    |  0.73728956  | 2.246888     | 1.0881024    |  0.1801086   | ...          | -0.49081223  |  0.40087172  | 2.0542609    |  0.63176305  |  0.4448698   |  0.201781329 |  0.7822977   |  0.01034636  | -0.9873396   | 0            |\n",
       "| 0.02870      | -0.72607990  | 0.6632983    | -0.04899504  | 1.3733861    | 1.7813364    |  0.03070009  | 1.631424     | 0.4250894    | -1.5421795   | ...          | -0.29702255  |  0.78621538  | 0.5067137    |  0.06590649  | -0.8570312   | -0.193153327 |  0.2256683   | -1.02431564  | -0.5509810   | 0            |\n",
       "| 0.02871      |  0.09567907  | 0.7798350    |  0.16583446  | 0.6252054    | 2.3961288    |  0.08439357  | 2.052365     | 3.3475786    |  0.1801086   | ...          | -1.20959779  | -0.39758797  | 0.7934913    |  0.64462382  |  0.2555305   | -1.055376718 |  1.6550758   |  0.60969442  | -1.1849123   | 0            |\n",
       "| 0.02872      | -0.60314329  | 0.4841847    | -0.99167466  | 0.8297713    | 1.1915245    | -1.28325094  | 1.578517     | 1.2049711    | -0.4760012   | ...          |  0.07294043  |  1.04658289  | 0.8459501    |  1.11188362  |  0.2477067   |  0.192737449 |  0.6541632   | -0.10995864  | -0.4275108   | 0            |\n",
       "\n"
      ],
      "text/plain": [
       "  Timestamp LP1.Avg     LP2.Avg   LP3.Avg     LP4.Avg   LP5.Avg   LP6.Avg    \n",
       "1 0.02867   -0.48634052 0.7813828  0.44236416 0.3744056 0.8635372  0.75602010\n",
       "2 0.02868    0.72632232 1.4623273  1.81439809 2.1089740 2.3100170  1.19858992\n",
       "3 0.02869   -0.04641552 0.8967598  0.83656782 0.5384809 2.0134720  0.73728956\n",
       "4 0.02870   -0.72607990 0.6632983 -0.04899504 1.3733861 1.7813364  0.03070009\n",
       "5 0.02871    0.09567907 0.7798350  0.16583446 0.6252054 2.3961288  0.08439357\n",
       "6 0.02872   -0.60314329 0.4841847 -0.99167466 0.8297713 1.1915245 -1.28325094\n",
       "  LP7.Avg  LP8.Avg   LP1.Min    ... GX.Min      GY.Min      GZ.Min   \n",
       "1 2.430070 1.1231082 -1.5421795 ... -0.66346175  1.63501258 1.3932749\n",
       "2 2.293395 2.7172734  0.6175151 ... -0.62998933  0.06065783 0.8442016\n",
       "3 2.246888 1.0881024  0.1801086 ... -0.49081223  0.40087172 2.0542609\n",
       "4 1.631424 0.4250894 -1.5421795 ... -0.29702255  0.78621538 0.5067137\n",
       "5 2.052365 3.3475786  0.1801086 ... -1.20959779 -0.39758797 0.7934913\n",
       "6 1.578517 1.2049711 -0.4760012 ...  0.07294043  1.04658289 0.8459501\n",
       "  GX.Max      GY.Max     GZ.Max       GX.Std     GY.Std      GZ.Std     Type\n",
       "1 -1.27800094  0.4620825  0.002807063 -0.2897487 -0.81140156 -0.8909766 0   \n",
       "2 -2.21037788 -0.6051013 -0.642353298 -0.7397688 -0.35387084 -0.7919651 0   \n",
       "3  0.63176305  0.4448698  0.201781329  0.7822977  0.01034636 -0.9873396 0   \n",
       "4  0.06590649 -0.8570312 -0.193153327  0.2256683 -1.02431564 -0.5509810 0   \n",
       "5  0.64462382  0.2555305 -1.055376718  1.6550758  0.60969442 -1.1849123 0   \n",
       "6  1.11188362  0.2477067  0.192737449  0.6541632 -0.10995864 -0.4275108 0   "
      ]
     },
     "metadata": {},
     "output_type": "display_data"
    }
   ],
   "source": [
    "MasterDataScaled = rbind(CyclingScaledT,DrivingScaledT,RunScaledT,\n",
    "                         SitScaledT,StairDownScaledT,StairUpScaledT,StandingScaledT,WalkScaledT)\n",
    "nrow(MasterDataScaled)\n",
    "head(MasterDataScaled)"
   ]
  },
  {
   "cell_type": "code",
   "execution_count": 119,
   "metadata": {},
   "outputs": [],
   "source": [
    "FilePath = \"C:/Users/Nwolf/Documents/FALL 2019/Machine Learning/P1LogisticReg/MasterData/\"\n",
    "MasterDataNotScaled = as.data.frame(MasterDataNotScaled)\n",
    "#write.csv(as.data.frame(MasterDataNotScaled),file=paste(startingFilePath,\"MasterDataNotScaled.csv\",sep=\"\"), row.names = FALSE)\n",
    "write.csv(as.data.frame(MasterDataNotScaled),file=\"MasterDataNotScaled.csv\", row.names = FALSE)\n",
    "write.csv(as.data.frame(MasterDataScaled),file=\"MasterDataScaled.csv\", row.names = FALSE)"
   ]
  },
  {
   "cell_type": "code",
   "execution_count": null,
   "metadata": {},
   "outputs": [],
   "source": []
  },
  {
   "cell_type": "code",
   "execution_count": null,
   "metadata": {},
   "outputs": [],
   "source": []
  }
 ],
 "metadata": {
  "kernelspec": {
   "display_name": "R",
   "language": "R",
   "name": "ir"
  },
  "language_info": {
   "codemirror_mode": "r",
   "file_extension": ".r",
   "mimetype": "text/x-r-source",
   "name": "R",
   "pygments_lexer": "r",
   "version": "3.5.1"
  }
 },
 "nbformat": 4,
 "nbformat_minor": 2
}
